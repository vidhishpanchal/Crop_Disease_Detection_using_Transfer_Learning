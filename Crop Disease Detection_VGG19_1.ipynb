{
 "cells": [
  {
   "cell_type": "markdown",
   "id": "67d9f541",
   "metadata": {},
   "source": [
    "# Crop Disease Prediction using ML"
   ]
  },
  {
   "cell_type": "markdown",
   "id": "a828e322",
   "metadata": {},
   "source": [
    "### Importing Packages"
   ]
  },
  {
   "cell_type": "code",
   "execution_count": 1,
   "id": "438c7791",
   "metadata": {},
   "outputs": [],
   "source": [
    "import tensorflow as tf\n",
    "import pandas as pd \n",
    "from tensorflow.keras.utils import to_categorical\n",
    "import random\n",
    "import numpy as np\n",
    "import os\n",
    "import matplotlib.pyplot as plt\n",
    "\n",
    "from tensorflow.keras.layers import Input, Lambda, Dense, Flatten, Conv2D, MaxPooling2D, Dropout, Activation, BatchNormalization\n",
    "from tensorflow.keras.models import Model\n",
    "from tensorflow.keras.applications.vgg19 import VGG19\n",
    "from tensorflow.keras.applications.vgg19 import preprocess_input\n",
    "from tensorflow.keras.preprocessing import image\n",
    "from tensorflow.keras.preprocessing.image import ImageDataGenerator,load_img, array_to_img, img_to_array\n",
    "from tensorflow.keras.models import Sequential\n",
    "from glob import glob"
   ]
  },
  {
   "cell_type": "code",
   "execution_count": 2,
   "id": "afcb302a",
   "metadata": {},
   "outputs": [],
   "source": [
    "# Define Constants by re-sizing all the images\n",
    "IMAGE_SIZE = [224, 224]\n",
    "\n",
    "train_path = \"C:\\\\Users\\\\rashm\\\\anaconda3\\\\CropDisease\\\\dataset\\\\train\"\n"
   ]
  },
  {
   "cell_type": "code",
   "execution_count": 3,
   "id": "a5069ba0",
   "metadata": {},
   "outputs": [
    {
     "name": "stdout",
     "output_type": "stream",
     "text": [
      "Downloading data from https://storage.googleapis.com/tensorflow/keras-applications/vgg19/vgg19_weights_tf_dim_ordering_tf_kernels_notop.h5\n",
      "80142336/80134624 [==============================] - 14s 0us/step\n",
      "80150528/80134624 [==============================] - 14s 0us/step\n"
     ]
    }
   ],
   "source": [
    "# Import the VG model and here we will be using imagenet weights\n",
    "\n",
    "vgg19 = VGG19(input_shape=IMAGE_SIZE + [3], weights='imagenet', include_top=False)"
   ]
  },
  {
   "cell_type": "code",
   "execution_count": 4,
   "id": "265f8b32",
   "metadata": {},
   "outputs": [],
   "source": [
    "# We don't need to train existing weights\n",
    "for layer in vgg19.layers:\n",
    "    layer.trainable = False"
   ]
  },
  {
   "cell_type": "code",
   "execution_count": 5,
   "id": "dd61865f",
   "metadata": {},
   "outputs": [
    {
     "data": {
      "text/plain": [
       "['C:\\\\Users\\\\rashm\\\\anaconda3\\\\CropDisease\\\\dataset\\\\train\\\\Tomato___Bacterial_spot',\n",
       " 'C:\\\\Users\\\\rashm\\\\anaconda3\\\\CropDisease\\\\dataset\\\\train\\\\Tomato___Early_blight',\n",
       " 'C:\\\\Users\\\\rashm\\\\anaconda3\\\\CropDisease\\\\dataset\\\\train\\\\Tomato___healthy',\n",
       " 'C:\\\\Users\\\\rashm\\\\anaconda3\\\\CropDisease\\\\dataset\\\\train\\\\Tomato___Late_blight',\n",
       " 'C:\\\\Users\\\\rashm\\\\anaconda3\\\\CropDisease\\\\dataset\\\\train\\\\Tomato___Leaf_Mold',\n",
       " 'C:\\\\Users\\\\rashm\\\\anaconda3\\\\CropDisease\\\\dataset\\\\train\\\\Tomato___Septoria_leaf_spot',\n",
       " 'C:\\\\Users\\\\rashm\\\\anaconda3\\\\CropDisease\\\\dataset\\\\train\\\\Tomato___Spider_mites Two-spotted_spider_mite',\n",
       " 'C:\\\\Users\\\\rashm\\\\anaconda3\\\\CropDisease\\\\dataset\\\\train\\\\Tomato___Target_Spot',\n",
       " 'C:\\\\Users\\\\rashm\\\\anaconda3\\\\CropDisease\\\\dataset\\\\train\\\\Tomato___Tomato_mosaic_virus',\n",
       " 'C:\\\\Users\\\\rashm\\\\anaconda3\\\\CropDisease\\\\dataset\\\\train\\\\Tomato___Tomato_Yellow_Leaf_Curl_Virus']"
      ]
     },
     "execution_count": 5,
     "metadata": {},
     "output_type": "execute_result"
    }
   ],
   "source": [
    "# Folders in the Training Set\n",
    "folders = glob('C:\\\\Users\\\\rashm\\\\anaconda3\\\\CropDisease\\\\dataset\\\\train\\\\*')\n",
    "folders"
   ]
  },
  {
   "cell_type": "code",
   "execution_count": 6,
   "id": "962f7306",
   "metadata": {},
   "outputs": [],
   "source": [
    "# Model layers -> can add more if required\n",
    "x = Flatten()(vgg19.output)\n",
    "prediction = Dense(len(folders), activation='softmax')(x)"
   ]
  },
  {
   "cell_type": "code",
   "execution_count": 7,
   "id": "17773dc0",
   "metadata": {},
   "outputs": [
    {
     "name": "stdout",
     "output_type": "stream",
     "text": [
      "Model: \"model\"\n",
      "_________________________________________________________________\n",
      " Layer (type)                Output Shape              Param #   \n",
      "=================================================================\n",
      " input_1 (InputLayer)        [(None, 224, 224, 3)]     0         \n",
      "                                                                 \n",
      " block1_conv1 (Conv2D)       (None, 224, 224, 64)      1792      \n",
      "                                                                 \n",
      " block1_conv2 (Conv2D)       (None, 224, 224, 64)      36928     \n",
      "                                                                 \n",
      " block1_pool (MaxPooling2D)  (None, 112, 112, 64)      0         \n",
      "                                                                 \n",
      " block2_conv1 (Conv2D)       (None, 112, 112, 128)     73856     \n",
      "                                                                 \n",
      " block2_conv2 (Conv2D)       (None, 112, 112, 128)     147584    \n",
      "                                                                 \n",
      " block2_pool (MaxPooling2D)  (None, 56, 56, 128)       0         \n",
      "                                                                 \n",
      " block3_conv1 (Conv2D)       (None, 56, 56, 256)       295168    \n",
      "                                                                 \n",
      " block3_conv2 (Conv2D)       (None, 56, 56, 256)       590080    \n",
      "                                                                 \n",
      " block3_conv3 (Conv2D)       (None, 56, 56, 256)       590080    \n",
      "                                                                 \n",
      " block3_conv4 (Conv2D)       (None, 56, 56, 256)       590080    \n",
      "                                                                 \n",
      " block3_pool (MaxPooling2D)  (None, 28, 28, 256)       0         \n",
      "                                                                 \n",
      " block4_conv1 (Conv2D)       (None, 28, 28, 512)       1180160   \n",
      "                                                                 \n",
      " block4_conv2 (Conv2D)       (None, 28, 28, 512)       2359808   \n",
      "                                                                 \n",
      " block4_conv3 (Conv2D)       (None, 28, 28, 512)       2359808   \n",
      "                                                                 \n",
      " block4_conv4 (Conv2D)       (None, 28, 28, 512)       2359808   \n",
      "                                                                 \n",
      " block4_pool (MaxPooling2D)  (None, 14, 14, 512)       0         \n",
      "                                                                 \n",
      " block5_conv1 (Conv2D)       (None, 14, 14, 512)       2359808   \n",
      "                                                                 \n",
      " block5_conv2 (Conv2D)       (None, 14, 14, 512)       2359808   \n",
      "                                                                 \n",
      " block5_conv3 (Conv2D)       (None, 14, 14, 512)       2359808   \n",
      "                                                                 \n",
      " block5_conv4 (Conv2D)       (None, 14, 14, 512)       2359808   \n",
      "                                                                 \n",
      " block5_pool (MaxPooling2D)  (None, 7, 7, 512)         0         \n",
      "                                                                 \n",
      " flatten (Flatten)           (None, 25088)             0         \n",
      "                                                                 \n",
      " dense (Dense)               (None, 10)                250890    \n",
      "                                                                 \n",
      "=================================================================\n",
      "Total params: 20,275,274\n",
      "Trainable params: 250,890\n",
      "Non-trainable params: 20,024,384\n",
      "_________________________________________________________________\n"
     ]
    }
   ],
   "source": [
    "# Create a model object\n",
    "model = Model(inputs=vgg19.input, outputs=prediction)\n",
    "\n",
    "# View the structure of the model\n",
    "model.summary()"
   ]
  },
  {
   "cell_type": "code",
   "execution_count": 8,
   "id": "361bb94e",
   "metadata": {},
   "outputs": [],
   "source": [
    "# Defining the cost and model optimization method to use\n",
    "model.compile(\n",
    "  loss='categorical_crossentropy',\n",
    "  optimizer='adam',\n",
    "  metrics=['accuracy']\n",
    ")"
   ]
  },
  {
   "cell_type": "code",
   "execution_count": 9,
   "id": "448668af",
   "metadata": {},
   "outputs": [],
   "source": [
    "# Using the Image Data Generator to import the images from the dataset\n",
    "from tensorflow.keras.preprocessing.image import ImageDataGenerator\n",
    "\n",
    "train_datagen = ImageDataGenerator(rescale = 1./255,\n",
    "                                   shear_range = 0.2,\n",
    "                                   zoom_range = 0.2,\n",
    "                                   horizontal_flip = True)\n",
    "\n",
    "test_datagen = ImageDataGenerator(rescale = 1./255)"
   ]
  },
  {
   "cell_type": "code",
   "execution_count": 10,
   "id": "33db70be",
   "metadata": {},
   "outputs": [
    {
     "name": "stdout",
     "output_type": "stream",
     "text": [
      "Found 14532 images belonging to 10 classes.\n"
     ]
    }
   ],
   "source": [
    "# Training Generator\n",
    "training_set = train_datagen.flow_from_directory('C:\\\\Users\\\\rashm\\\\anaconda3\\\\CropDisease\\\\dataset\\\\train',\n",
    "                                                 target_size = (224, 224),\n",
    "                                                 batch_size = 32,\n",
    "                                                 class_mode = 'categorical')"
   ]
  },
  {
   "cell_type": "code",
   "execution_count": 11,
   "id": "2ed281c0",
   "metadata": {},
   "outputs": [
    {
     "name": "stdout",
     "output_type": "stream",
     "text": [
      "Found 3628 images belonging to 10 classes.\n"
     ]
    }
   ],
   "source": [
    "# Testing Generator\n",
    "test_set = test_datagen.flow_from_directory('C:\\\\Users\\\\rashm\\\\anaconda3\\\\CropDisease\\\\dataset\\\\test',\n",
    "                                            target_size = (224, 224),\n",
    "                                            batch_size = 32,\n",
    "                                            class_mode = 'categorical')"
   ]
  },
  {
   "cell_type": "code",
   "execution_count": null,
   "id": "39e95f47",
   "metadata": {},
   "outputs": [
    {
     "name": "stderr",
     "output_type": "stream",
     "text": [
      "C:\\Users\\rashm\\AppData\\Local\\Temp\\ipykernel_8196\\2655456400.py:2: UserWarning: `Model.fit_generator` is deprecated and will be removed in a future version. Please use `Model.fit`, which supports generators.\n",
      "  r = model.fit_generator(\n"
     ]
    },
    {
     "name": "stdout",
     "output_type": "stream",
     "text": [
      "Epoch 1/50\n",
      "455/455 [==============================] - 199s 402ms/step - loss: 0.7846 - accuracy: 0.7505 - val_loss: 0.6250 - val_accuracy: 0.7958\n",
      "Epoch 2/50\n",
      "455/455 [==============================] - 188s 413ms/step - loss: 0.4493 - accuracy: 0.8509 - val_loss: 0.4960 - val_accuracy: 0.8456\n",
      "Epoch 3/50\n",
      "455/455 [==============================] - 179s 394ms/step - loss: 0.3725 - accuracy: 0.8761 - val_loss: 0.3713 - val_accuracy: 0.8801\n",
      "Epoch 4/50\n",
      "455/455 [==============================] - 177s 389ms/step - loss: 0.3364 - accuracy: 0.8925 - val_loss: 0.3823 - val_accuracy: 0.8848\n",
      "Epoch 5/50\n",
      "455/455 [==============================] - 177s 389ms/step - loss: 0.3119 - accuracy: 0.8997 - val_loss: 0.6589 - val_accuracy: 0.8266\n",
      "Epoch 6/50\n",
      "455/455 [==============================] - 179s 393ms/step - loss: 0.2942 - accuracy: 0.9061 - val_loss: 0.6360 - val_accuracy: 0.8377\n",
      "Epoch 7/50\n",
      "455/455 [==============================] - 178s 392ms/step - loss: 0.2633 - accuracy: 0.9158 - val_loss: 0.5591 - val_accuracy: 0.8476\n",
      "Epoch 8/50\n",
      "455/455 [==============================] - 179s 392ms/step - loss: 0.2298 - accuracy: 0.9244 - val_loss: 0.3870 - val_accuracy: 0.8870\n",
      "Epoch 9/50\n",
      "455/455 [==============================] - 181s 398ms/step - loss: 0.2217 - accuracy: 0.9267 - val_loss: 0.3495 - val_accuracy: 0.8931\n",
      "Epoch 10/50\n",
      "455/455 [==============================] - 180s 396ms/step - loss: 0.2102 - accuracy: 0.9317 - val_loss: 0.3992 - val_accuracy: 0.8911\n",
      "Epoch 11/50\n",
      "455/455 [==============================] - 181s 397ms/step - loss: 0.2432 - accuracy: 0.9265 - val_loss: 0.5288 - val_accuracy: 0.8561\n",
      "Epoch 12/50\n",
      "455/455 [==============================] - 181s 398ms/step - loss: 0.2199 - accuracy: 0.9315 - val_loss: 0.3540 - val_accuracy: 0.9063\n",
      "Epoch 13/50\n",
      "455/455 [==============================] - 180s 395ms/step - loss: 0.1882 - accuracy: 0.9395 - val_loss: 0.3980 - val_accuracy: 0.8936\n",
      "Epoch 14/50\n",
      "455/455 [==============================] - 180s 394ms/step - loss: 0.1751 - accuracy: 0.9454 - val_loss: 0.4436 - val_accuracy: 0.8966\n",
      "Epoch 15/50\n",
      "455/455 [==============================] - 181s 397ms/step - loss: 0.1744 - accuracy: 0.9420 - val_loss: 0.4008 - val_accuracy: 0.8897\n",
      "Epoch 16/50\n",
      "455/455 [==============================] - 179s 394ms/step - loss: 0.1669 - accuracy: 0.9459 - val_loss: 0.7252 - val_accuracy: 0.8503\n",
      "Epoch 17/50\n",
      "455/455 [==============================] - 179s 394ms/step - loss: 0.1953 - accuracy: 0.9377 - val_loss: 0.6159 - val_accuracy: 0.8721\n",
      "Epoch 18/50\n",
      "455/455 [==============================] - 180s 395ms/step - loss: 0.1593 - accuracy: 0.9505 - val_loss: 0.3636 - val_accuracy: 0.9129\n",
      "Epoch 19/50\n",
      "455/455 [==============================] - 179s 393ms/step - loss: 0.1528 - accuracy: 0.9520 - val_loss: 0.4537 - val_accuracy: 0.9030\n",
      "Epoch 20/50\n",
      "455/455 [==============================] - 179s 392ms/step - loss: 0.1753 - accuracy: 0.9474 - val_loss: 0.4234 - val_accuracy: 0.8939\n",
      "Epoch 21/50\n",
      "455/455 [==============================] - 180s 396ms/step - loss: 0.1688 - accuracy: 0.9504 - val_loss: 0.3735 - val_accuracy: 0.9096\n",
      "Epoch 22/50\n",
      "455/455 [==============================] - 180s 394ms/step - loss: 0.1492 - accuracy: 0.9547 - val_loss: 0.4150 - val_accuracy: 0.9055\n",
      "Epoch 23/50\n",
      "455/455 [==============================] - 179s 393ms/step - loss: 0.1664 - accuracy: 0.9521 - val_loss: 0.7342 - val_accuracy: 0.8735\n",
      "Epoch 24/50\n",
      "455/455 [==============================] - 179s 394ms/step - loss: 0.1498 - accuracy: 0.9560 - val_loss: 0.4183 - val_accuracy: 0.9101\n",
      "Epoch 25/50\n",
      "455/455 [==============================] - 179s 393ms/step - loss: 0.1149 - accuracy: 0.9624 - val_loss: 0.6000 - val_accuracy: 0.8892\n",
      "Epoch 26/50\n",
      "455/455 [==============================] - 179s 393ms/step - loss: 0.1343 - accuracy: 0.9577 - val_loss: 0.4542 - val_accuracy: 0.9027\n",
      "Epoch 27/50\n",
      "455/455 [==============================] - 180s 395ms/step - loss: 0.1148 - accuracy: 0.9640 - val_loss: 0.6104 - val_accuracy: 0.8685\n",
      "Epoch 28/50\n",
      "455/455 [==============================] - 179s 393ms/step - loss: 0.1319 - accuracy: 0.9593 - val_loss: 0.4705 - val_accuracy: 0.9038\n",
      "Epoch 29/50\n",
      "455/455 [==============================] - 179s 393ms/step - loss: 0.1226 - accuracy: 0.9617 - val_loss: 0.4076 - val_accuracy: 0.9082\n",
      "Epoch 30/50\n",
      "455/455 [==============================] - 179s 393ms/step - loss: 0.1424 - accuracy: 0.9588 - val_loss: 0.4460 - val_accuracy: 0.9057\n",
      "Epoch 31/50\n",
      "455/455 [==============================] - 188s 412ms/step - loss: 0.1216 - accuracy: 0.9611 - val_loss: 0.4922 - val_accuracy: 0.8999\n",
      "Epoch 32/50\n",
      "455/455 [==============================] - 180s 395ms/step - loss: 0.1427 - accuracy: 0.9589 - val_loss: 0.3412 - val_accuracy: 0.9267\n",
      "Epoch 33/50\n",
      "455/455 [==============================] - 180s 395ms/step - loss: 0.1131 - accuracy: 0.9656 - val_loss: 0.5566 - val_accuracy: 0.8903\n",
      "Epoch 34/50\n",
      "455/455 [==============================] - 179s 394ms/step - loss: 0.1221 - accuracy: 0.9634 - val_loss: 0.4556 - val_accuracy: 0.9024\n",
      "Epoch 35/50\n",
      "455/455 [==============================] - 178s 392ms/step - loss: 0.1430 - accuracy: 0.9610 - val_loss: 0.5279 - val_accuracy: 0.8988\n",
      "Epoch 36/50\n",
      "455/455 [==============================] - 179s 394ms/step - loss: 0.1229 - accuracy: 0.9641 - val_loss: 0.4077 - val_accuracy: 0.9195\n",
      "Epoch 37/50\n",
      "455/455 [==============================] - 179s 392ms/step - loss: 0.1022 - accuracy: 0.9690 - val_loss: 0.4612 - val_accuracy: 0.9071\n",
      "Epoch 38/50\n",
      "455/455 [==============================] - 178s 392ms/step - loss: 0.1182 - accuracy: 0.9664 - val_loss: 0.5046 - val_accuracy: 0.9085\n",
      "Epoch 39/50\n",
      "455/455 [==============================] - 179s 394ms/step - loss: 0.1052 - accuracy: 0.9672 - val_loss: 0.5944 - val_accuracy: 0.8908\n",
      "Epoch 40/50\n",
      "455/455 [==============================] - 178s 392ms/step - loss: 0.1234 - accuracy: 0.9660 - val_loss: 0.6829 - val_accuracy: 0.8881\n",
      "Epoch 41/50\n",
      "455/455 [==============================] - 179s 392ms/step - loss: 0.1181 - accuracy: 0.9683 - val_loss: 0.6201 - val_accuracy: 0.8853\n",
      "Epoch 42/50\n",
      "455/455 [==============================] - 179s 394ms/step - loss: 0.1017 - accuracy: 0.9706 - val_loss: 0.6127 - val_accuracy: 0.8997\n",
      "Epoch 43/50\n",
      "455/455 [==============================] - 178s 391ms/step - loss: 0.1120 - accuracy: 0.9665 - val_loss: 0.5025 - val_accuracy: 0.9066\n",
      "Epoch 44/50\n",
      "455/455 [==============================] - 179s 392ms/step - loss: 0.0975 - accuracy: 0.9725 - val_loss: 0.5828 - val_accuracy: 0.9016\n",
      "Epoch 45/50\n",
      "455/455 [==============================] - 179s 393ms/step - loss: 0.0963 - accuracy: 0.9721 - val_loss: 0.3963 - val_accuracy: 0.9190\n",
      "Epoch 46/50\n",
      "455/455 [==============================] - 178s 391ms/step - loss: 0.1110 - accuracy: 0.9692 - val_loss: 0.4715 - val_accuracy: 0.9146\n",
      "Epoch 47/50\n",
      "455/455 [==============================] - 179s 392ms/step - loss: 0.1012 - accuracy: 0.9712 - val_loss: 0.7397 - val_accuracy: 0.8749\n",
      "Epoch 48/50\n",
      "455/455 [==============================] - 179s 394ms/step - loss: 0.0885 - accuracy: 0.9753 - val_loss: 0.7819 - val_accuracy: 0.8713\n",
      "Epoch 49/50\n",
      "455/455 [==============================] - 178s 392ms/step - loss: 0.0978 - accuracy: 0.9709 - val_loss: 0.5843 - val_accuracy: 0.9101\n",
      "Epoch 50/50\n",
      "455/455 [==============================] - ETA: 0s - loss: 0.1138 - accuracy: 0.9697"
     ]
    }
   ],
   "source": [
    "# fit the model, it will take some time to execute\n",
    "r = model.fit_generator(\n",
    "  training_set,\n",
    "  validation_data=test_set,\n",
    "  epochs=50,\n",
    "  steps_per_epoch=len(training_set),\n",
    "  validation_steps=len(test_set)\n",
    ")"
   ]
  },
  {
   "cell_type": "code",
   "execution_count": 1,
   "id": "214aa52d",
   "metadata": {
    "scrolled": true
   },
   "outputs": [
    {
     "ename": "NameError",
     "evalue": "name 'plt' is not defined",
     "output_type": "error",
     "traceback": [
      "\u001b[1;31m---------------------------------------------------------------------------\u001b[0m",
      "\u001b[1;31mNameError\u001b[0m                                 Traceback (most recent call last)",
      "Input \u001b[1;32mIn [1]\u001b[0m, in \u001b[0;36m<cell line: 3>\u001b[1;34m()\u001b[0m\n\u001b[0;32m      1\u001b[0m \u001b[38;5;66;03m# Plot the Loss and Accuracy\u001b[39;00m\n\u001b[0;32m      2\u001b[0m \u001b[38;5;66;03m# Loss\u001b[39;00m\n\u001b[1;32m----> 3\u001b[0m \u001b[43mplt\u001b[49m\u001b[38;5;241m.\u001b[39mplot(r\u001b[38;5;241m.\u001b[39mhistory[\u001b[38;5;124m'\u001b[39m\u001b[38;5;124mloss\u001b[39m\u001b[38;5;124m'\u001b[39m], label\u001b[38;5;241m=\u001b[39m\u001b[38;5;124m'\u001b[39m\u001b[38;5;124mtrain loss\u001b[39m\u001b[38;5;124m'\u001b[39m)\n\u001b[0;32m      4\u001b[0m plt\u001b[38;5;241m.\u001b[39mplot(r\u001b[38;5;241m.\u001b[39mhistory[\u001b[38;5;124m'\u001b[39m\u001b[38;5;124mval_loss\u001b[39m\u001b[38;5;124m'\u001b[39m], label\u001b[38;5;241m=\u001b[39m\u001b[38;5;124m'\u001b[39m\u001b[38;5;124mval loss\u001b[39m\u001b[38;5;124m'\u001b[39m)\n\u001b[0;32m      5\u001b[0m plt\u001b[38;5;241m.\u001b[39mlegend()\n",
      "\u001b[1;31mNameError\u001b[0m: name 'plt' is not defined"
     ]
    }
   ],
   "source": [
    "# Plot the Loss and Accuracy\n",
    "# Loss\n",
    "plt.plot(r.history['loss'], label='train loss')\n",
    "plt.plot(r.history['val_loss'], label='val loss')\n",
    "plt.legend()\n",
    "plt.show()\n",
    "plt.savefig('VGG19LossVal_loss')\n",
    "\n",
    "# Accuracy\n",
    "plt.plot(r.history['accuracy'], label='train acc')\n",
    "plt.plot(r.history['val_accuracy'], label='val acc')\n",
    "plt.legend()\n",
    "plt.show()\n",
    "plt.savefig('VGG19AccVal_acc')"
   ]
  },
  {
   "cell_type": "code",
   "execution_count": 2,
   "id": "cf844e76",
   "metadata": {},
   "outputs": [
    {
     "ename": "NameError",
     "evalue": "name 'model' is not defined",
     "output_type": "error",
     "traceback": [
      "\u001b[1;31m---------------------------------------------------------------------------\u001b[0m",
      "\u001b[1;31mNameError\u001b[0m                                 Traceback (most recent call last)",
      "Input \u001b[1;32mIn [2]\u001b[0m, in \u001b[0;36m<cell line: 4>\u001b[1;34m()\u001b[0m\n\u001b[0;32m      1\u001b[0m \u001b[38;5;66;03m# Saving the model as a h5 file\u001b[39;00m\n\u001b[0;32m      3\u001b[0m \u001b[38;5;28;01mfrom\u001b[39;00m \u001b[38;5;21;01mtensorflow\u001b[39;00m\u001b[38;5;21;01m.\u001b[39;00m\u001b[38;5;21;01mkeras\u001b[39;00m\u001b[38;5;21;01m.\u001b[39;00m\u001b[38;5;21;01mmodels\u001b[39;00m \u001b[38;5;28;01mimport\u001b[39;00m load_model\n\u001b[1;32m----> 4\u001b[0m \u001b[43mmodel\u001b[49m\u001b[38;5;241m.\u001b[39msave(\u001b[38;5;124m'\u001b[39m\u001b[38;5;124mC:\u001b[39m\u001b[38;5;130;01m\\\\\u001b[39;00m\u001b[38;5;124mUsers\u001b[39m\u001b[38;5;130;01m\\\\\u001b[39;00m\u001b[38;5;124mAdmin\u001b[39m\u001b[38;5;130;01m\\\\\u001b[39;00m\u001b[38;5;124mDownloads\u001b[39m\u001b[38;5;130;01m\\\\\u001b[39;00m\u001b[38;5;124mCDD\u001b[39m\u001b[38;5;130;01m\\\\\u001b[39;00m\u001b[38;5;124mmodel_Vgg19.h5\u001b[39m\u001b[38;5;124m'\u001b[39m)\n",
      "\u001b[1;31mNameError\u001b[0m: name 'model' is not defined"
     ]
    }
   ],
   "source": [
    "# Saving the model as a h5 file\n",
    "\n",
    "from tensorflow.keras.models import load_model\n",
    "model.save('C:\\\\Users\\\\Admin\\\\Downloads\\\\CDD\\\\model_Vgg19.h5')"
   ]
  },
  {
   "cell_type": "code",
   "execution_count": null,
   "id": "c988d347",
   "metadata": {},
   "outputs": [],
   "source": [
    "y_pred = model.predict(test_set)\n",
    "y_pred"
   ]
  },
  {
   "cell_type": "code",
   "execution_count": null,
   "id": "e8925f26",
   "metadata": {},
   "outputs": [],
   "source": [
    "import numpy as np\n",
    "y_pred = np.argmax(y_pred, axis=1)\n",
    "y_pred"
   ]
  },
  {
   "cell_type": "code",
   "execution_count": null,
   "id": "74f02486",
   "metadata": {},
   "outputs": [],
   "source": []
  }
 ],
 "metadata": {
  "kernelspec": {
   "display_name": "Python 3 (ipykernel)",
   "language": "python",
   "name": "python3"
  },
  "language_info": {
   "codemirror_mode": {
    "name": "ipython",
    "version": 3
   },
   "file_extension": ".py",
   "mimetype": "text/x-python",
   "name": "python",
   "nbconvert_exporter": "python",
   "pygments_lexer": "ipython3",
   "version": "3.8.12"
  }
 },
 "nbformat": 4,
 "nbformat_minor": 5
}
