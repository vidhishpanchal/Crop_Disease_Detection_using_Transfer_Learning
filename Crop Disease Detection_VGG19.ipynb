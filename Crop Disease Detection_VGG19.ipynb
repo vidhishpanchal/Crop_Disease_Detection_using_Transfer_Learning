{
 "cells": [
  {
   "cell_type": "markdown",
   "id": "67d9f541",
   "metadata": {},
   "source": [
    "# Crop Disease Prediction using ML"
   ]
  },
  {
   "cell_type": "markdown",
   "id": "a828e322",
   "metadata": {},
   "source": [
    "### Importing Packages"
   ]
  },
  {
   "cell_type": "code",
   "execution_count": 1,
   "id": "438c7791",
   "metadata": {},
   "outputs": [],
   "source": [
    "import tensorflow as tf\n",
    "import pandas as pd \n",
    "from tensorflow.keras.utils import to_categorical\n",
    "import random\n",
    "import numpy as np\n",
    "import os\n",
    "import matplotlib.pyplot as plt\n",
    "\n",
    "from tensorflow.keras.layers import Input, Lambda, Dense, Flatten, Conv2D, MaxPooling2D, Dropout, Activation, BatchNormalization\n",
    "from tensorflow.keras.models import Model\n",
    "from tensorflow.keras.applications.vgg19 import VGG19\n",
    "from tensorflow.keras.applications.vgg19 import preprocess_input\n",
    "from tensorflow.keras.preprocessing import image\n",
    "from tensorflow.keras.preprocessing.image import ImageDataGenerator,load_img, array_to_img, img_to_array\n",
    "from tensorflow.keras.models import Sequential\n",
    "from glob import glob"
   ]
  },
  {
   "cell_type": "code",
   "execution_count": 2,
   "id": "afcb302a",
   "metadata": {},
   "outputs": [],
   "source": [
    "# Define Constants by re-sizing all the images\n",
    "IMAGE_SIZE = [224, 224]\n",
    "\n",
    "train_path = \"C:\\\\Users\\\\rashm\\\\anaconda3\\\\CropDisease\\\\dataset\\\\train\"\n"
   ]
  },
  {
   "cell_type": "code",
   "execution_count": 3,
   "id": "a5069ba0",
   "metadata": {},
   "outputs": [],
   "source": [
    "# Import the VG model and here we will be using imagenet weights\n",
    "\n",
    "vgg19 = VGG19(input_shape=IMAGE_SIZE + [3], weights='imagenet', include_top=False)"
   ]
  },
  {
   "cell_type": "code",
   "execution_count": 4,
   "id": "265f8b32",
   "metadata": {},
   "outputs": [],
   "source": [
    "# We don't need to train existing weights\n",
    "for layer in vgg19.layers:\n",
    "    layer.trainable = False"
   ]
  },
  {
   "cell_type": "code",
   "execution_count": 5,
   "id": "dd61865f",
   "metadata": {},
   "outputs": [
    {
     "data": {
      "text/plain": [
       "['C:\\\\Users\\\\rashm\\\\anaconda3\\\\CropDisease\\\\dataset\\\\train\\\\Tomato___Bacterial_spot',\n",
       " 'C:\\\\Users\\\\rashm\\\\anaconda3\\\\CropDisease\\\\dataset\\\\train\\\\Tomato___Early_blight',\n",
       " 'C:\\\\Users\\\\rashm\\\\anaconda3\\\\CropDisease\\\\dataset\\\\train\\\\Tomato___healthy',\n",
       " 'C:\\\\Users\\\\rashm\\\\anaconda3\\\\CropDisease\\\\dataset\\\\train\\\\Tomato___Late_blight',\n",
       " 'C:\\\\Users\\\\rashm\\\\anaconda3\\\\CropDisease\\\\dataset\\\\train\\\\Tomato___Leaf_Mold',\n",
       " 'C:\\\\Users\\\\rashm\\\\anaconda3\\\\CropDisease\\\\dataset\\\\train\\\\Tomato___Septoria_leaf_spot',\n",
       " 'C:\\\\Users\\\\rashm\\\\anaconda3\\\\CropDisease\\\\dataset\\\\train\\\\Tomato___Spider_mites Two-spotted_spider_mite',\n",
       " 'C:\\\\Users\\\\rashm\\\\anaconda3\\\\CropDisease\\\\dataset\\\\train\\\\Tomato___Target_Spot',\n",
       " 'C:\\\\Users\\\\rashm\\\\anaconda3\\\\CropDisease\\\\dataset\\\\train\\\\Tomato___Tomato_mosaic_virus',\n",
       " 'C:\\\\Users\\\\rashm\\\\anaconda3\\\\CropDisease\\\\dataset\\\\train\\\\Tomato___Tomato_Yellow_Leaf_Curl_Virus']"
      ]
     },
     "execution_count": 5,
     "metadata": {},
     "output_type": "execute_result"
    }
   ],
   "source": [
    "# Folders in the Training Set\n",
    "folders = glob('C:\\\\Users\\\\rashm\\\\anaconda3\\\\CropDisease\\\\dataset\\\\train\\\\*')\n",
    "folders"
   ]
  },
  {
   "cell_type": "code",
   "execution_count": 6,
   "id": "962f7306",
   "metadata": {},
   "outputs": [],
   "source": [
    "# Model layers -> can add more if required\n",
    "x = Flatten()(vgg19.output)\n",
    "prediction = Dense(len(folders), activation='softmax')(x)"
   ]
  },
  {
   "cell_type": "code",
   "execution_count": 7,
   "id": "17773dc0",
   "metadata": {},
   "outputs": [
    {
     "name": "stdout",
     "output_type": "stream",
     "text": [
      "Model: \"model\"\n",
      "_________________________________________________________________\n",
      " Layer (type)                Output Shape              Param #   \n",
      "=================================================================\n",
      " input_1 (InputLayer)        [(None, 224, 224, 3)]     0         \n",
      "                                                                 \n",
      " block1_conv1 (Conv2D)       (None, 224, 224, 64)      1792      \n",
      "                                                                 \n",
      " block1_conv2 (Conv2D)       (None, 224, 224, 64)      36928     \n",
      "                                                                 \n",
      " block1_pool (MaxPooling2D)  (None, 112, 112, 64)      0         \n",
      "                                                                 \n",
      " block2_conv1 (Conv2D)       (None, 112, 112, 128)     73856     \n",
      "                                                                 \n",
      " block2_conv2 (Conv2D)       (None, 112, 112, 128)     147584    \n",
      "                                                                 \n",
      " block2_pool (MaxPooling2D)  (None, 56, 56, 128)       0         \n",
      "                                                                 \n",
      " block3_conv1 (Conv2D)       (None, 56, 56, 256)       295168    \n",
      "                                                                 \n",
      " block3_conv2 (Conv2D)       (None, 56, 56, 256)       590080    \n",
      "                                                                 \n",
      " block3_conv3 (Conv2D)       (None, 56, 56, 256)       590080    \n",
      "                                                                 \n",
      " block3_conv4 (Conv2D)       (None, 56, 56, 256)       590080    \n",
      "                                                                 \n",
      " block3_pool (MaxPooling2D)  (None, 28, 28, 256)       0         \n",
      "                                                                 \n",
      " block4_conv1 (Conv2D)       (None, 28, 28, 512)       1180160   \n",
      "                                                                 \n",
      " block4_conv2 (Conv2D)       (None, 28, 28, 512)       2359808   \n",
      "                                                                 \n",
      " block4_conv3 (Conv2D)       (None, 28, 28, 512)       2359808   \n",
      "                                                                 \n",
      " block4_conv4 (Conv2D)       (None, 28, 28, 512)       2359808   \n",
      "                                                                 \n",
      " block4_pool (MaxPooling2D)  (None, 14, 14, 512)       0         \n",
      "                                                                 \n",
      " block5_conv1 (Conv2D)       (None, 14, 14, 512)       2359808   \n",
      "                                                                 \n",
      " block5_conv2 (Conv2D)       (None, 14, 14, 512)       2359808   \n",
      "                                                                 \n",
      " block5_conv3 (Conv2D)       (None, 14, 14, 512)       2359808   \n",
      "                                                                 \n",
      " block5_conv4 (Conv2D)       (None, 14, 14, 512)       2359808   \n",
      "                                                                 \n",
      " block5_pool (MaxPooling2D)  (None, 7, 7, 512)         0         \n",
      "                                                                 \n",
      " flatten (Flatten)           (None, 25088)             0         \n",
      "                                                                 \n",
      " dense (Dense)               (None, 10)                250890    \n",
      "                                                                 \n",
      "=================================================================\n",
      "Total params: 20,275,274\n",
      "Trainable params: 250,890\n",
      "Non-trainable params: 20,024,384\n",
      "_________________________________________________________________\n"
     ]
    }
   ],
   "source": [
    "# Create a model object\n",
    "model = Model(inputs=vgg19.input, outputs=prediction)\n",
    "\n",
    "# View the structure of the model\n",
    "model.summary()"
   ]
  },
  {
   "cell_type": "code",
   "execution_count": 8,
   "id": "361bb94e",
   "metadata": {},
   "outputs": [],
   "source": [
    "# Defining the cost and model optimization method to use\n",
    "model.compile(\n",
    "  loss='categorical_crossentropy',\n",
    "  optimizer='adam',\n",
    "  metrics=['accuracy']\n",
    ")"
   ]
  },
  {
   "cell_type": "code",
   "execution_count": 9,
   "id": "448668af",
   "metadata": {},
   "outputs": [],
   "source": [
    "# Using the Image Data Generator to import the images from the dataset\n",
    "from tensorflow.keras.preprocessing.image import ImageDataGenerator\n",
    "\n",
    "train_datagen = ImageDataGenerator(rescale = 1./255,\n",
    "                                   shear_range = 0.2,\n",
    "                                   zoom_range = 0.2,\n",
    "                                   horizontal_flip = True)\n",
    "\n",
    "test_datagen = ImageDataGenerator(rescale = 1./255)"
   ]
  },
  {
   "cell_type": "code",
   "execution_count": 10,
   "id": "33db70be",
   "metadata": {},
   "outputs": [
    {
     "name": "stdout",
     "output_type": "stream",
     "text": [
      "Found 14532 images belonging to 10 classes.\n"
     ]
    }
   ],
   "source": [
    "# Training Generator\n",
    "training_set = train_datagen.flow_from_directory('C:\\\\Users\\\\rashm\\\\anaconda3\\\\CropDisease\\\\dataset\\\\train',\n",
    "                                                 target_size = (224, 224),\n",
    "                                                 batch_size = 32,\n",
    "                                                 class_mode = 'categorical')"
   ]
  },
  {
   "cell_type": "code",
   "execution_count": 11,
   "id": "2ed281c0",
   "metadata": {},
   "outputs": [
    {
     "name": "stdout",
     "output_type": "stream",
     "text": [
      "Found 3628 images belonging to 10 classes.\n"
     ]
    }
   ],
   "source": [
    "# Testing Generator\n",
    "test_set = test_datagen.flow_from_directory('C:\\\\Users\\\\rashm\\\\anaconda3\\\\CropDisease\\\\dataset\\\\test',\n",
    "                                            target_size = (224, 224),\n",
    "                                            batch_size = 32,\n",
    "                                            class_mode = 'categorical')"
   ]
  },
  {
   "cell_type": "code",
   "execution_count": 12,
   "id": "39e95f47",
   "metadata": {},
   "outputs": [
    {
     "name": "stderr",
     "output_type": "stream",
     "text": [
      "C:\\Users\\rashm\\AppData\\Local\\Temp\\ipykernel_4812\\2655456400.py:2: UserWarning: `Model.fit_generator` is deprecated and will be removed in a future version. Please use `Model.fit`, which supports generators.\n",
      "  r = model.fit_generator(\n"
     ]
    },
    {
     "name": "stdout",
     "output_type": "stream",
     "text": [
      "Epoch 1/50\n",
      "455/455 [==============================] - 189s 388ms/step - loss: 0.7768 - accuracy: 0.7541 - val_loss: 0.3934 - val_accuracy: 0.8658\n",
      "Epoch 2/50\n",
      "455/455 [==============================] - 182s 400ms/step - loss: 0.4479 - accuracy: 0.8492 - val_loss: 0.4682 - val_accuracy: 0.8476\n",
      "Epoch 3/50\n",
      "455/455 [==============================] - 181s 396ms/step - loss: 0.3683 - accuracy: 0.8783 - val_loss: 0.4209 - val_accuracy: 0.8630\n",
      "Epoch 4/50\n",
      "455/455 [==============================] - 187s 411ms/step - loss: 0.3381 - accuracy: 0.8910 - val_loss: 0.3295 - val_accuracy: 0.8922\n",
      "Epoch 5/50\n",
      "455/455 [==============================] - 181s 398ms/step - loss: 0.2623 - accuracy: 0.9115 - val_loss: 0.5527 - val_accuracy: 0.8586\n",
      "Epoch 6/50\n",
      "455/455 [==============================] - 180s 395ms/step - loss: 0.2748 - accuracy: 0.9116 - val_loss: 0.4263 - val_accuracy: 0.8765\n",
      "Epoch 7/50\n",
      "455/455 [==============================] - 178s 391ms/step - loss: 0.2951 - accuracy: 0.9063 - val_loss: 0.5715 - val_accuracy: 0.8448\n",
      "Epoch 8/50\n",
      "455/455 [==============================] - 177s 389ms/step - loss: 0.2474 - accuracy: 0.9209 - val_loss: 0.4537 - val_accuracy: 0.8864\n",
      "Epoch 9/50\n",
      "455/455 [==============================] - 184s 405ms/step - loss: 0.2117 - accuracy: 0.9313 - val_loss: 0.4060 - val_accuracy: 0.8801\n",
      "Epoch 10/50\n",
      "455/455 [==============================] - 177s 389ms/step - loss: 0.2177 - accuracy: 0.9301 - val_loss: 0.3427 - val_accuracy: 0.9016\n",
      "Epoch 11/50\n",
      "455/455 [==============================] - 177s 389ms/step - loss: 0.2126 - accuracy: 0.9307 - val_loss: 0.4198 - val_accuracy: 0.8980\n",
      "Epoch 12/50\n",
      "455/455 [==============================] - 179s 392ms/step - loss: 0.2095 - accuracy: 0.9335 - val_loss: 0.3607 - val_accuracy: 0.9085\n",
      "Epoch 13/50\n",
      "455/455 [==============================] - 181s 397ms/step - loss: 0.1951 - accuracy: 0.9396 - val_loss: 0.3033 - val_accuracy: 0.9159\n",
      "Epoch 14/50\n",
      "455/455 [==============================] - 177s 390ms/step - loss: 0.1784 - accuracy: 0.9416 - val_loss: 0.3981 - val_accuracy: 0.8983\n",
      "Epoch 15/50\n",
      "455/455 [==============================] - 188s 413ms/step - loss: 0.1742 - accuracy: 0.9461 - val_loss: 0.4400 - val_accuracy: 0.8964\n",
      "Epoch 16/50\n",
      "455/455 [==============================] - 178s 392ms/step - loss: 0.1935 - accuracy: 0.9413 - val_loss: 0.3859 - val_accuracy: 0.9049\n",
      "Epoch 17/50\n",
      "455/455 [==============================] - 181s 398ms/step - loss: 0.1846 - accuracy: 0.9440 - val_loss: 0.4731 - val_accuracy: 0.8881\n",
      "Epoch 18/50\n",
      "455/455 [==============================] - 181s 398ms/step - loss: 0.1577 - accuracy: 0.9481 - val_loss: 0.3696 - val_accuracy: 0.9052\n",
      "Epoch 19/50\n",
      "455/455 [==============================] - 179s 394ms/step - loss: 0.1651 - accuracy: 0.9480 - val_loss: 0.5445 - val_accuracy: 0.8842\n",
      "Epoch 20/50\n",
      "455/455 [==============================] - 177s 388ms/step - loss: 0.1745 - accuracy: 0.9491 - val_loss: 0.4878 - val_accuracy: 0.8829\n",
      "Epoch 21/50\n",
      "455/455 [==============================] - 177s 388ms/step - loss: 0.1243 - accuracy: 0.9613 - val_loss: 0.4415 - val_accuracy: 0.8986\n",
      "Epoch 22/50\n",
      "455/455 [==============================] - 177s 389ms/step - loss: 0.1489 - accuracy: 0.9530 - val_loss: 0.5634 - val_accuracy: 0.8873\n",
      "Epoch 23/50\n",
      "455/455 [==============================] - 177s 388ms/step - loss: 0.1409 - accuracy: 0.9595 - val_loss: 0.4367 - val_accuracy: 0.9016\n",
      "Epoch 24/50\n",
      "455/455 [==============================] - 177s 388ms/step - loss: 0.1414 - accuracy: 0.9554 - val_loss: 0.4802 - val_accuracy: 0.8917\n",
      "Epoch 25/50\n",
      "455/455 [==============================] - 188s 413ms/step - loss: 0.1323 - accuracy: 0.9591 - val_loss: 0.9912 - val_accuracy: 0.8195\n",
      "Epoch 26/50\n",
      "455/455 [==============================] - 222s 486ms/step - loss: 0.1367 - accuracy: 0.9574 - val_loss: 0.5690 - val_accuracy: 0.8815\n",
      "Epoch 27/50\n",
      "455/455 [==============================] - 220s 482ms/step - loss: 0.1366 - accuracy: 0.9588 - val_loss: 0.5063 - val_accuracy: 0.8955\n",
      "Epoch 28/50\n",
      "455/455 [==============================] - 177s 389ms/step - loss: 0.1415 - accuracy: 0.9578 - val_loss: 0.6360 - val_accuracy: 0.8787\n",
      "Epoch 29/50\n",
      "455/455 [==============================] - 212s 465ms/step - loss: 0.1183 - accuracy: 0.9640 - val_loss: 0.5403 - val_accuracy: 0.8903\n",
      "Epoch 30/50\n",
      "455/455 [==============================] - 179s 393ms/step - loss: 0.1103 - accuracy: 0.9642 - val_loss: 0.5209 - val_accuracy: 0.8906\n",
      "Epoch 31/50\n",
      "455/455 [==============================] - 178s 390ms/step - loss: 0.1505 - accuracy: 0.9580 - val_loss: 0.4196 - val_accuracy: 0.9071\n",
      "Epoch 32/50\n",
      "455/455 [==============================] - 192s 422ms/step - loss: 0.1076 - accuracy: 0.9666 - val_loss: 0.5669 - val_accuracy: 0.8920\n",
      "Epoch 33/50\n",
      "455/455 [==============================] - 230s 505ms/step - loss: 0.1133 - accuracy: 0.9672 - val_loss: 0.4237 - val_accuracy: 0.9165\n",
      "Epoch 34/50\n",
      "455/455 [==============================] - 187s 410ms/step - loss: 0.1326 - accuracy: 0.9620 - val_loss: 0.7692 - val_accuracy: 0.8779\n",
      "Epoch 35/50\n",
      "455/455 [==============================] - 181s 397ms/step - loss: 0.1255 - accuracy: 0.9653 - val_loss: 0.4292 - val_accuracy: 0.9159\n",
      "Epoch 36/50\n",
      "455/455 [==============================] - 184s 404ms/step - loss: 0.1459 - accuracy: 0.9598 - val_loss: 0.6074 - val_accuracy: 0.8892\n",
      "Epoch 37/50\n",
      "455/455 [==============================] - 185s 406ms/step - loss: 0.1231 - accuracy: 0.9668 - val_loss: 0.4313 - val_accuracy: 0.9195\n",
      "Epoch 38/50\n",
      "455/455 [==============================] - 182s 400ms/step - loss: 0.1208 - accuracy: 0.9643 - val_loss: 0.6004 - val_accuracy: 0.9030\n",
      "Epoch 39/50\n",
      "455/455 [==============================] - 178s 391ms/step - loss: 0.0909 - accuracy: 0.9727 - val_loss: 0.5155 - val_accuracy: 0.9110\n",
      "Epoch 40/50\n",
      "455/455 [==============================] - 180s 396ms/step - loss: 0.1179 - accuracy: 0.9652 - val_loss: 0.7448 - val_accuracy: 0.8677\n",
      "Epoch 41/50\n",
      "455/455 [==============================] - 187s 410ms/step - loss: 0.1116 - accuracy: 0.9665 - val_loss: 0.4687 - val_accuracy: 0.9044\n",
      "Epoch 42/50\n",
      "455/455 [==============================] - 185s 407ms/step - loss: 0.1059 - accuracy: 0.9678 - val_loss: 0.4379 - val_accuracy: 0.9143\n",
      "Epoch 43/50\n",
      "455/455 [==============================] - 180s 395ms/step - loss: 0.0924 - accuracy: 0.9735 - val_loss: 0.4826 - val_accuracy: 0.9129\n",
      "Epoch 44/50\n",
      "455/455 [==============================] - 178s 392ms/step - loss: 0.0964 - accuracy: 0.9721 - val_loss: 0.4386 - val_accuracy: 0.9162\n",
      "Epoch 45/50\n",
      "455/455 [==============================] - 177s 389ms/step - loss: 0.1020 - accuracy: 0.9703 - val_loss: 0.6584 - val_accuracy: 0.8886\n",
      "Epoch 46/50\n",
      "455/455 [==============================] - 177s 389ms/step - loss: 0.0981 - accuracy: 0.9720 - val_loss: 0.5988 - val_accuracy: 0.8999\n",
      "Epoch 47/50\n",
      "455/455 [==============================] - 176s 387ms/step - loss: 0.0974 - accuracy: 0.9719 - val_loss: 0.4835 - val_accuracy: 0.9123\n",
      "Epoch 48/50\n",
      "455/455 [==============================] - 176s 387ms/step - loss: 0.0951 - accuracy: 0.9739 - val_loss: 0.4508 - val_accuracy: 0.9151\n",
      "Epoch 49/50\n",
      "455/455 [==============================] - 177s 388ms/step - loss: 0.0951 - accuracy: 0.9723 - val_loss: 0.4423 - val_accuracy: 0.9181\n",
      "Epoch 50/50\n",
      "455/455 [==============================] - 174s 383ms/step - loss: 0.0863 - accuracy: 0.9751 - val_loss: 0.3999 - val_accuracy: 0.9236\n"
     ]
    }
   ],
   "source": [
    "# fit the model, it will take some time to execute\n",
    "r = model.fit_generator(\n",
    "  training_set,\n",
    "  validation_data=test_set,\n",
    "  epochs=50,\n",
    "  steps_per_epoch=len(training_set),\n",
    "  validation_steps=len(test_set)\n",
    ")"
   ]
  },
  {
   "cell_type": "code",
   "execution_count": 15,
   "id": "214aa52d",
   "metadata": {
    "scrolled": true
   },
   "outputs": [
    {
     "data": {
      "image/png": "[encoded data removed]",
      "text/plain": [
       "<Figure size 432x288 with 1 Axes>"
      ]
     },
     "metadata": {
      "needs_background": "light"
     },
     "output_type": "display_data"
    },
    {
     "data": {
      "image/png": "[encoded data removed]",
      "text/plain": [
       "<Figure size 432x288 with 1 Axes>"
      ]
     },
     "metadata": {
      "needs_background": "light"
     },
     "output_type": "display_data"
    },
    {
     "data": {
      "text/plain": [
       "<Figure size 432x288 with 0 Axes>"
      ]
     },
     "metadata": {},
     "output_type": "display_data"
    }
   ],
   "source": [
    "# Plot the Loss and Accuracy\n",
    "# Loss\n",
    "plt.plot(r.history['loss'], label='train loss')\n",
    "plt.plot(r.history['val_loss'], label='val loss')\n",
    "plt.legend()\n",
    "plt.show()\n",
    "plt.savefig('VGG19LossVal_loss')\n",
    "\n",
    "# Accuracy\n",
    "plt.plot(r.history['accuracy'], label='train acc')\n",
    "plt.plot(r.history['val_accuracy'], label='val acc')\n",
    "plt.legend()\n",
    "plt.show()\n",
    "plt.savefig('VGG19AccVal_acc')"
   ]
  },
  {
   "cell_type": "code",
   "execution_count": 17,
   "id": "cf844e76",
   "metadata": {},
   "outputs": [],
   "source": [
    "# Saving the model as a h5 file\n",
    "\n",
    "from tensorflow.keras.models import load_model\n",
    "model.save('model_Vgg19.h5')"
   ]
  },
  {
   "cell_type": "code",
   "execution_count": null,
   "id": "c988d347",
   "metadata": {},
   "outputs": [],
   "source": []
  },
  {
   "cell_type": "code",
   "execution_count": null,
   "id": "e8925f26",
   "metadata": {},
   "outputs": [],
   "source": []
  },
  {
   "cell_type": "code",
   "execution_count": null,
   "id": "74f02486",
   "metadata": {},
   "outputs": [],
   "source": []
  }
 ],
 "metadata": {
  "kernelspec": {
   "display_name": "Python 3 (ipykernel)",
   "language": "python",
   "name": "python3"
  },
  "language_info": {
   "codemirror_mode": {
    "name": "ipython",
    "version": 3
   },
   "file_extension": ".py",
   "mimetype": "text/x-python",
   "name": "python",
   "nbconvert_exporter": "python",
   "pygments_lexer": "ipython3",
   "version": "3.8.12"
  }
 },
 "nbformat": 4,
 "nbformat_minor": 5
}
